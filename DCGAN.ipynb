{
  "cells": [
    {
      "cell_type": "code",
      "execution_count": 1,
      "metadata": {
        "id": "90df4oXtziP8"
      },
      "outputs": [],
      "source": [
        "import tensorflow as tf\n",
        "import matplotlib.pyplot as plt\n",
        "import numpy as np\n",
        "from tensorflow.keras import layers"
      ]
    },
    {
      "cell_type": "markdown",
      "metadata": {},
      "source": []
    },
    {
      "cell_type": "code",
      "execution_count": 9,
      "metadata": {},
      "outputs": [],
      "source": [
        "dir = 'D:\\\\coding\\\\python\\\\computer_vision\\\\cap_img'"
      ]
    },
    {
      "cell_type": "code",
      "execution_count": 30,
      "metadata": {},
      "outputs": [],
      "source": [
        "import os\n",
        "import cv2\n",
        "import numpy as np\n",
        "\n",
        "def load_and_convert_to_gray(directory):\n",
        "    image_list = []\n",
        "    for filename in os.listdir(directory):\n",
        "        if filename.endswith(('.png', '.jpg', '.jpeg')):\n",
        "            img_path = os.path.join(directory, filename)\n",
        "            img = cv2.imread(img_path)\n",
        "            if img is not None:\n",
        "                img_gray = cv2.cvtColor(img, cv2.COLOR_BGR2GRAY)\n",
        "                img_gray = cv2.resize(img_gray, (28, 28))  # Resize to 28x28\n",
        "                image_list.append(img_gray)\n",
        "    return np.array(image_list)"
      ]
    },
    {
      "cell_type": "code",
      "execution_count": 31,
      "metadata": {},
      "outputs": [],
      "source": [
        "data=load_and_convert_to_gray(dir)"
      ]
    },
    {
      "cell_type": "code",
      "execution_count": 32,
      "metadata": {},
      "outputs": [
        {
          "data": {
            "text/plain": [
              "(300, 28, 28)"
            ]
          },
          "execution_count": 32,
          "metadata": {},
          "output_type": "execute_result"
        }
      ],
      "source": [
        "data.shape"
      ]
    },
    {
      "cell_type": "code",
      "execution_count": 33,
      "metadata": {},
      "outputs": [],
      "source": [
        "x_train = data.reshape(data.shape[0], 28,28,1).astype('float32')"
      ]
    },
    {
      "cell_type": "code",
      "execution_count": 34,
      "metadata": {},
      "outputs": [
        {
          "data": {
            "text/plain": [
              "(300, 28, 28, 1)"
            ]
          },
          "execution_count": 34,
          "metadata": {},
          "output_type": "execute_result"
        }
      ],
      "source": [
        "x_train.shape"
      ]
    },
    {
      "cell_type": "code",
      "execution_count": 79,
      "metadata": {},
      "outputs": [],
      "source": [
        "import matplotlib.pyplot as plt"
      ]
    },
    {
      "cell_type": "code",
      "execution_count": 82,
      "metadata": {},
      "outputs": [
        {
          "data": {
            "text/plain": [
              "list"
            ]
          },
          "execution_count": 82,
          "metadata": {},
          "output_type": "execute_result"
        }
      ],
      "source": [
        "type(data)"
      ]
    },
    {
      "cell_type": "code",
      "execution_count": null,
      "metadata": {},
      "outputs": [],
      "source": []
    },
    {
      "cell_type": "code",
      "execution_count": null,
      "metadata": {},
      "outputs": [],
      "source": []
    },
    {
      "cell_type": "code",
      "execution_count": null,
      "metadata": {},
      "outputs": [],
      "source": []
    },
    {
      "cell_type": "code",
      "execution_count": null,
      "metadata": {},
      "outputs": [],
      "source": []
    },
    {
      "cell_type": "code",
      "execution_count": null,
      "metadata": {},
      "outputs": [],
      "source": []
    },
    {
      "cell_type": "code",
      "execution_count": null,
      "metadata": {},
      "outputs": [],
      "source": []
    },
    {
      "cell_type": "code",
      "execution_count": null,
      "metadata": {},
      "outputs": [],
      "source": []
    },
    {
      "cell_type": "code",
      "execution_count": 2,
      "metadata": {
        "colab": {
          "base_uri": "https://localhost:8080/",
          "height": 36
        },
        "id": "yl4nahZd0CnD",
        "outputId": "570055f9-4698-4d2f-9876-5295bd0c72c7"
      },
      "outputs": [
        {
          "data": {
            "text/plain": [
              "'2.10.1'"
            ]
          },
          "execution_count": 2,
          "metadata": {},
          "output_type": "execute_result"
        }
      ],
      "source": [
        "tf.__version__"
      ]
    },
    {
      "cell_type": "code",
      "execution_count": 2,
      "metadata": {
        "colab": {
          "base_uri": "https://localhost:8080/"
        },
        "id": "aj93jDFX0IGB",
        "outputId": "d1984bdc-7520-470c-db83-81350dfb8f4d"
      },
      "outputs": [],
      "source": [
        "(x_train, y_train),(_,_)=tf.keras.datasets.mnist.load_data()"
      ]
    },
    {
      "cell_type": "code",
      "execution_count": 3,
      "metadata": {},
      "outputs": [
        {
          "data": {
            "text/plain": [
              "numpy.ndarray"
            ]
          },
          "execution_count": 3,
          "metadata": {},
          "output_type": "execute_result"
        }
      ],
      "source": [
        "type(x_train)"
      ]
    },
    {
      "cell_type": "code",
      "execution_count": 4,
      "metadata": {
        "colab": {
          "base_uri": "https://localhost:8080/"
        },
        "id": "X3NMdDZC1oRs",
        "outputId": "892c00ea-3875-479c-ca80-23298f3bc8b1"
      },
      "outputs": [
        {
          "data": {
            "text/plain": [
              "(60000, 28, 28)"
            ]
          },
          "execution_count": 4,
          "metadata": {},
          "output_type": "execute_result"
        }
      ],
      "source": [
        "x_train.shape"
      ]
    },
    {
      "cell_type": "code",
      "execution_count": 5,
      "metadata": {
        "colab": {
          "base_uri": "https://localhost:8080/"
        },
        "id": "O5hkeyKs1xVF",
        "outputId": "d1a46e07-3fbe-4f18-cc3c-eb8aa1699e69"
      },
      "outputs": [
        {
          "data": {
            "text/plain": [
              "(60000,)"
            ]
          },
          "execution_count": 5,
          "metadata": {},
          "output_type": "execute_result"
        }
      ],
      "source": [
        "y_train.shape"
      ]
    },
    {
      "cell_type": "code",
      "execution_count": 6,
      "metadata": {
        "id": "rzFGak6lFShg"
      },
      "outputs": [],
      "source": [
        "import random"
      ]
    },
    {
      "cell_type": "code",
      "execution_count": 7,
      "metadata": {
        "colab": {
          "base_uri": "https://localhost:8080/",
          "height": 465
        },
        "id": "roxiym0G19d9",
        "outputId": "326034fb-0815-45bd-ef90-03a0a6db3d45"
      },
      "outputs": [
        {
          "name": "stdout",
          "output_type": "stream",
          "text": [
            "802\n"
          ]
        },
        {
          "data": {
            "text/plain": [
              "<matplotlib.image.AxesImage at 0x22b8a424f70>"
            ]
          },
          "execution_count": 7,
          "metadata": {},
          "output_type": "execute_result"
        },
        {
          "data": {
            "image/png": "[encoded data removed]",
            "text/plain": [
              "<Figure size 640x480 with 1 Axes>"
            ]
          },
          "metadata": {},
          "output_type": "display_data"
        }
      ],
      "source": [
        "i = random.randint(1,6000)\n",
        "print(i)\n",
        "plt.imshow(x_train[i])"
      ]
    },
    {
      "cell_type": "code",
      "execution_count": 8,
      "metadata": {
        "id": "2m1zFtks2BcR"
      },
      "outputs": [],
      "source": [
        "x_train = x_train.reshape(x_train.shape[0], 28,28,1).astype('float32')"
      ]
    },
    {
      "cell_type": "code",
      "execution_count": 9,
      "metadata": {
        "colab": {
          "base_uri": "https://localhost:8080/"
        },
        "id": "-XhVcTAWGPLe",
        "outputId": "b8fc2933-8146-44c9-ad6e-2c825e4acbe5"
      },
      "outputs": [
        {
          "data": {
            "text/plain": [
              "(60000, 28, 28, 1)"
            ]
          },
          "execution_count": 9,
          "metadata": {},
          "output_type": "execute_result"
        }
      ],
      "source": [
        "x_train.shape"
      ]
    },
    {
      "cell_type": "code",
      "execution_count": 35,
      "metadata": {
        "id": "ltLKrrXmGR4i"
      },
      "outputs": [],
      "source": [
        "x_train=(x_train-127.5)/127.5"
      ]
    },
    {
      "cell_type": "code",
      "execution_count": 36,
      "metadata": {
        "colab": {
          "base_uri": "https://localhost:8080/"
        },
        "id": "t-inVICFHDwR",
        "outputId": "3cce789c-1019-4d3c-ae19-3fbdc6c4d238"
      },
      "outputs": [
        {
          "data": {
            "text/plain": [
              "(0.654902, -0.45882353)"
            ]
          },
          "execution_count": 36,
          "metadata": {},
          "output_type": "execute_result"
        }
      ],
      "source": [
        "x_train.max(), x_train.min()"
      ]
    },
    {
      "cell_type": "code",
      "execution_count": 38,
      "metadata": {
        "id": "CybcC8QtHKbF"
      },
      "outputs": [],
      "source": [
        "buffer_size=300\n",
        "batch_size = 32"
      ]
    },
    {
      "cell_type": "code",
      "execution_count": 39,
      "metadata": {
        "colab": {
          "base_uri": "https://localhost:8080/"
        },
        "id": "A0XN4QZ5ITyw",
        "outputId": "706d8d5a-5a2d-43ad-acf7-61df03926810"
      },
      "outputs": [
        {
          "data": {
            "text/plain": [
              "9.375"
            ]
          },
          "execution_count": 39,
          "metadata": {},
          "output_type": "execute_result"
        }
      ],
      "source": [
        "buffer_size/batch_size"
      ]
    },
    {
      "cell_type": "code",
      "execution_count": 40,
      "metadata": {
        "colab": {
          "base_uri": "https://localhost:8080/"
        },
        "id": "afqWjGCIIZOA",
        "outputId": "a7c62dba-fd99-4708-de1e-43e707912a96"
      },
      "outputs": [
        {
          "data": {
            "text/plain": [
              "numpy.ndarray"
            ]
          },
          "execution_count": 40,
          "metadata": {},
          "output_type": "execute_result"
        }
      ],
      "source": [
        "type(x_train)"
      ]
    },
    {
      "cell_type": "code",
      "execution_count": 41,
      "metadata": {
        "id": "9O6JQaUpIn2x"
      },
      "outputs": [],
      "source": [
        "x_train = tf.data.Dataset.from_tensor_slices(x_train).shuffle(buffer_size).batch(batch_size)"
      ]
    },
    {
      "cell_type": "code",
      "execution_count": 42,
      "metadata": {
        "colab": {
          "base_uri": "https://localhost:8080/"
        },
        "id": "t-gD3f42JPfP",
        "outputId": "1b926da6-a30f-430f-a33f-b05653a09c61"
      },
      "outputs": [
        {
          "data": {
            "text/plain": [
              "tensorflow.python.data.ops.dataset_ops.BatchDataset"
            ]
          },
          "execution_count": 42,
          "metadata": {},
          "output_type": "execute_result"
        }
      ],
      "source": [
        "type(x_train)"
      ]
    },
    {
      "cell_type": "code",
      "execution_count": 43,
      "metadata": {
        "colab": {
          "base_uri": "https://localhost:8080/"
        },
        "id": "TYN01oOHJd8p",
        "outputId": "07875a35-f2fb-43cc-edc8-e284a1db5a54"
      },
      "outputs": [
        {
          "data": {
            "text/plain": [
              "<BatchDataset element_spec=TensorSpec(shape=(None, 28, 28, 1), dtype=tf.float32, name=None)>"
            ]
          },
          "execution_count": 43,
          "metadata": {},
          "output_type": "execute_result"
        }
      ],
      "source": [
        "x_train"
      ]
    },
    {
      "cell_type": "code",
      "execution_count": 44,
      "metadata": {
        "id": "3zRzF6emJoe_"
      },
      "outputs": [],
      "source": [
        "def build_generator():\n",
        "  network = tf.keras.models.Sequential()\n",
        "  network.add(layers.Dense(units=7*7*256, use_bias=False, input_shape=(100,)))\n",
        "  network.add(layers.BatchNormalization())\n",
        "  network.add(layers.LeakyReLU())\n",
        "  network.add(layers.Reshape((7,7,256)))\n",
        "\n",
        "\n",
        "  network.add(layers.Conv2DTranspose(filters = 128, kernel_size=(5,5), padding='same', use_bias=False))\n",
        "  network.add(layers.BatchNormalization())\n",
        "  network.add(layers.LeakyReLU())\n",
        "\n",
        "  network.add(layers.Conv2DTranspose(filters = 64, kernel_size=(5,5), padding='same', strides=(2,2), use_bias=False))\n",
        "  network.add(layers.BatchNormalization())\n",
        "  network.add(layers.LeakyReLU())\n",
        "\n",
        "  network.add(layers.Conv2DTranspose(filters=1, kernel_size=(5,5), padding='same', strides=(2,2), use_bias=False, activation='tanh'))\n",
        "\n",
        "  network.summary()\n",
        "  return network"
      ]
    },
    {
      "cell_type": "code",
      "execution_count": 45,
      "metadata": {
        "colab": {
          "base_uri": "https://localhost:8080/"
        },
        "id": "dF4ocelKXeag",
        "outputId": "1a6611ab-0a66-45b2-d204-b1b71292002a"
      },
      "outputs": [
        {
          "name": "stdout",
          "output_type": "stream",
          "text": [
            "Model: \"sequential\"\n",
            "_________________________________________________________________\n",
            " Layer (type)                Output Shape              Param #   \n",
            "=================================================================\n",
            " dense (Dense)               (None, 12544)             1254400   \n",
            "                                                                 \n",
            " batch_normalization (BatchN  (None, 12544)            50176     \n",
            " ormalization)                                                   \n",
            "                                                                 \n",
            " leaky_re_lu (LeakyReLU)     (None, 12544)             0         \n",
            "                                                                 \n",
            " reshape (Reshape)           (None, 7, 7, 256)         0         \n",
            "                                                                 \n",
            " conv2d_transpose (Conv2DTra  (None, 7, 7, 128)        819200    \n",
            " nspose)                                                         \n",
            "                                                                 \n",
            " batch_normalization_1 (Batc  (None, 7, 7, 128)        512       \n",
            " hNormalization)                                                 \n",
            "                                                                 \n",
            " leaky_re_lu_1 (LeakyReLU)   (None, 7, 7, 128)         0         \n",
            "                                                                 \n",
            " conv2d_transpose_1 (Conv2DT  (None, 14, 14, 64)       204800    \n",
            " ranspose)                                                       \n",
            "                                                                 \n",
            " batch_normalization_2 (Batc  (None, 14, 14, 64)       256       \n",
            " hNormalization)                                                 \n",
            "                                                                 \n",
            " leaky_re_lu_2 (LeakyReLU)   (None, 14, 14, 64)        0         \n",
            "                                                                 \n",
            " conv2d_transpose_2 (Conv2DT  (None, 28, 28, 1)        1600      \n",
            " ranspose)                                                       \n",
            "                                                                 \n",
            "=================================================================\n",
            "Total params: 2,330,944\n",
            "Trainable params: 2,305,472\n",
            "Non-trainable params: 25,472\n",
            "_________________________________________________________________\n"
          ]
        }
      ],
      "source": [
        "Generator=build_generator()"
      ]
    },
    {
      "cell_type": "code",
      "execution_count": 46,
      "metadata": {
        "colab": {
          "base_uri": "https://localhost:8080/"
        },
        "id": "zEdJ-YWkXvIb",
        "outputId": "586ab20f-5bfb-4bd2-c4cc-725d22e1b92a"
      },
      "outputs": [
        {
          "data": {
            "text/plain": [
              "<tf.Tensor: shape=(1, 100), dtype=float32, numpy=\n",
              "array([[ 0.8139363 ,  1.0762429 ,  1.3323995 , -0.798737  ,  1.884407  ,\n",
              "         0.60188425, -0.9053107 , -0.63558894,  0.1444758 ,  1.6574779 ,\n",
              "         0.8254396 ,  0.30880132,  1.155077  ,  0.6920018 , -0.35134375,\n",
              "        -0.47944513,  0.35950062, -0.5905051 ,  2.3484    ,  0.11639404,\n",
              "         0.5580902 , -0.10690282, -0.31760886,  0.5949784 , -0.12031124,\n",
              "         1.4573551 ,  1.2914104 , -0.22940347, -0.4265481 ,  0.06574859,\n",
              "        -1.2588403 ,  0.77876496,  0.3519686 , -0.2890147 , -0.27476016,\n",
              "         0.47396207,  0.23693933,  0.12335149, -0.34146848, -0.9010075 ,\n",
              "         0.24346113,  0.6894752 , -1.4098245 ,  0.1475497 , -0.37840393,\n",
              "         0.04422164,  0.06671944,  0.29833055,  1.1206427 ,  0.15070325,\n",
              "         2.1024642 ,  0.52115047,  0.90035325, -0.45026803, -0.66729295,\n",
              "         2.2215443 ,  0.77532756, -0.69674236, -0.8752718 , -1.3224316 ,\n",
              "         0.5515565 , -0.5551    , -0.75421304,  0.8627288 , -0.87406534,\n",
              "        -0.11888242, -1.8792856 , -2.1269183 , -1.673733  , -1.1928012 ,\n",
              "         0.7523321 , -1.0802022 , -0.17937812,  0.9803645 , -0.05535986,\n",
              "        -0.39308223,  0.7930906 ,  0.19998832,  1.0861998 , -0.08177379,\n",
              "         1.2492758 , -0.26892436,  0.15403807,  0.7895569 , -0.18747853,\n",
              "        -0.81367916,  0.6900978 , -0.5570259 , -0.37268725,  1.3537545 ,\n",
              "         0.96862024, -0.24191293, -0.77527964, -0.3376258 ,  0.82405734,\n",
              "         1.0535479 ,  0.9745937 ,  0.8057956 ,  0.274521  , -0.01518198]],\n",
              "      dtype=float32)>"
            ]
          },
          "execution_count": 46,
          "metadata": {},
          "output_type": "execute_result"
        }
      ],
      "source": [
        "noise=tf.random.normal([1,100])\n",
        "noise"
      ]
    },
    {
      "cell_type": "code",
      "execution_count": 47,
      "metadata": {
        "id": "QRByF_MhZbMp"
      },
      "outputs": [],
      "source": [
        "generated_image=Generator(noise, training=False)"
      ]
    },
    {
      "cell_type": "code",
      "execution_count": 48,
      "metadata": {
        "colab": {
          "base_uri": "https://localhost:8080/"
        },
        "id": "rMNzZBrZaJPu",
        "outputId": "1a93679e-79ff-4f86-fa34-e922e74d7a19"
      },
      "outputs": [
        {
          "data": {
            "text/plain": [
              "TensorShape([1, 28, 28, 1])"
            ]
          },
          "execution_count": 48,
          "metadata": {},
          "output_type": "execute_result"
        }
      ],
      "source": [
        "generated_image.shape"
      ]
    },
    {
      "cell_type": "code",
      "execution_count": 49,
      "metadata": {
        "colab": {
          "base_uri": "https://localhost:8080/",
          "height": 447
        },
        "id": "vJfO7u10aPZ2",
        "outputId": "d06908ca-6557-4dcc-960f-dfa6f0abf09f"
      },
      "outputs": [
        {
          "data": {
            "text/plain": [
              "<matplotlib.image.AxesImage at 0x1d78022d6a0>"
            ]
          },
          "execution_count": 49,
          "metadata": {},
          "output_type": "execute_result"
        },
        {
          "data": {
            "image/png": "[encoded data removed]",
            "text/plain": [
              "<Figure size 640x480 with 1 Axes>"
            ]
          },
          "metadata": {},
          "output_type": "display_data"
        }
      ],
      "source": [
        "plt.imshow(generated_image[0,:,:,0], cmap='gray')"
      ]
    },
    {
      "cell_type": "code",
      "execution_count": 50,
      "metadata": {
        "id": "NkxThzCqagfl"
      },
      "outputs": [],
      "source": [
        "def build_discriminator():\n",
        "  network = tf.keras.models.Sequential()\n",
        "  network.add(layers.Conv2D(filters=64, strides=(2,2), kernel_size=(5,5), padding='same', input_shape=[28,28,1]))\n",
        "  network.add(layers.LeakyReLU())\n",
        "  network.add(layers.Dropout(0.3))\n",
        "\n",
        "  network.add(layers.Conv2D(filters=128, strides=(2,2), kernel_size=(5,5), padding='same'))\n",
        "  network.add(layers.LeakyReLU())\n",
        "  network.add(layers.Dropout(0.3))\n",
        "\n",
        "  network.add(layers.Flatten())\n",
        "  network.add(layers.Dense(1))\n",
        "  network.summary()\n",
        "  return network"
      ]
    },
    {
      "cell_type": "code",
      "execution_count": 51,
      "metadata": {
        "colab": {
          "base_uri": "https://localhost:8080/"
        },
        "id": "G0s1kJv9f18f",
        "outputId": "3bd5edf5-9d02-49ec-9cb6-e4db02c7c1eb"
      },
      "outputs": [
        {
          "name": "stdout",
          "output_type": "stream",
          "text": [
            "Model: \"sequential_1\"\n",
            "_________________________________________________________________\n",
            " Layer (type)                Output Shape              Param #   \n",
            "=================================================================\n",
            " conv2d (Conv2D)             (None, 14, 14, 64)        1664      \n",
            "                                                                 \n",
            " leaky_re_lu_3 (LeakyReLU)   (None, 14, 14, 64)        0         \n",
            "                                                                 \n",
            " dropout (Dropout)           (None, 14, 14, 64)        0         \n",
            "                                                                 \n",
            " conv2d_1 (Conv2D)           (None, 7, 7, 128)         204928    \n",
            "                                                                 \n",
            " leaky_re_lu_4 (LeakyReLU)   (None, 7, 7, 128)         0         \n",
            "                                                                 \n",
            " dropout_1 (Dropout)         (None, 7, 7, 128)         0         \n",
            "                                                                 \n",
            " flatten (Flatten)           (None, 6272)              0         \n",
            "                                                                 \n",
            " dense_1 (Dense)             (None, 1)                 6273      \n",
            "                                                                 \n",
            "=================================================================\n",
            "Total params: 212,865\n",
            "Trainable params: 212,865\n",
            "Non-trainable params: 0\n",
            "_________________________________________________________________\n"
          ]
        }
      ],
      "source": [
        "Discriminator=build_discriminator()"
      ]
    },
    {
      "cell_type": "code",
      "execution_count": 52,
      "metadata": {
        "colab": {
          "base_uri": "https://localhost:8080/"
        },
        "id": "JmHSuC0Lf-gi",
        "outputId": "f9d8044c-7862-4407-919f-3902dd07b57e"
      },
      "outputs": [
        {
          "data": {
            "text/plain": [
              "<KerasTensor: shape=(None, 28, 28, 1) dtype=float32 (created by layer 'conv2d_input')>"
            ]
          },
          "execution_count": 52,
          "metadata": {},
          "output_type": "execute_result"
        }
      ],
      "source": [
        "Discriminator.input"
      ]
    },
    {
      "cell_type": "code",
      "execution_count": 53,
      "metadata": {
        "colab": {
          "base_uri": "https://localhost:8080/"
        },
        "id": "qICdd_PNgKOE",
        "outputId": "a15fda00-bf28-4f2b-c494-75166a030126"
      },
      "outputs": [
        {
          "data": {
            "text/plain": [
              "<tf.Tensor: shape=(1, 1), dtype=float32, numpy=array([[-0.00146702]], dtype=float32)>"
            ]
          },
          "execution_count": 53,
          "metadata": {},
          "output_type": "execute_result"
        }
      ],
      "source": [
        "Discriminator(generated_image, training = False)"
      ]
    },
    {
      "cell_type": "code",
      "execution_count": 54,
      "metadata": {
        "colab": {
          "base_uri": "https://localhost:8080/"
        },
        "id": "pp5oGsxrgRdu",
        "outputId": "71296c9b-4cb6-4fbb-db78-f38e6a8a6951"
      },
      "outputs": [
        {
          "data": {
            "text/plain": [
              "<tf.Tensor: shape=(), dtype=float32, numpy=0.5007098>"
            ]
          },
          "execution_count": 54,
          "metadata": {},
          "output_type": "execute_result"
        }
      ],
      "source": [
        "tf.sigmoid(0.00283916)"
      ]
    },
    {
      "cell_type": "code",
      "execution_count": 55,
      "metadata": {
        "id": "MDQLvKUtkd8u"
      },
      "outputs": [],
      "source": [
        "cross_entropy=tf.keras.losses.BinaryCrossentropy(from_logits=True)"
      ]
    },
    {
      "cell_type": "code",
      "execution_count": 56,
      "metadata": {
        "id": "ENnN6ke8gcI7"
      },
      "outputs": [],
      "source": [
        "def discriminator_loss(expected_output, fack_output):\n",
        "  real_loss=cross_entropy(tf.ones_like(expected_output), expected_output)\n",
        "  fack_loss=cross_entropy(tf.zeros_like(fack_output), fack_output)\n",
        "  total_loss=real_loss+fack_loss\n",
        "  return total_loss"
      ]
    },
    {
      "cell_type": "code",
      "execution_count": 57,
      "metadata": {
        "id": "6GNUF7TSl6Hq"
      },
      "outputs": [],
      "source": [
        "def generator_loss(fack_output):\n",
        "  return cross_entropy(tf.ones_like(fack_output), fack_output)"
      ]
    },
    {
      "cell_type": "code",
      "execution_count": 58,
      "metadata": {
        "id": "6R4a5JpsmVs3"
      },
      "outputs": [],
      "source": [
        "generator_optimizer=tf.keras.optimizers.Adam(learning_rate=0.00001)\n",
        "discriminator_optimizer=tf.keras.optimizers.Adam(learning_rate=0.00001)"
      ]
    },
    {
      "cell_type": "code",
      "execution_count": 72,
      "metadata": {
        "id": "bdkGe2yHnSg4"
      },
      "outputs": [],
      "source": [
        "epochs = 10000\n",
        "noise_dimension = 100\n",
        "no_of_images = 16"
      ]
    },
    {
      "cell_type": "code",
      "execution_count": 61,
      "metadata": {
        "colab": {
          "base_uri": "https://localhost:8080/"
        },
        "id": "oaSfU_e7rAr3",
        "outputId": "0332f7ba-0019-47a5-8471-f349ae3f58d9"
      },
      "outputs": [
        {
          "data": {
            "text/plain": [
              "(32, 100)"
            ]
          },
          "execution_count": 61,
          "metadata": {},
          "output_type": "execute_result"
        }
      ],
      "source": [
        "batch_size, noise_dimension"
      ]
    },
    {
      "cell_type": "code",
      "execution_count": 62,
      "metadata": {
        "id": "JkBvoc5grMTW"
      },
      "outputs": [],
      "source": [
        "@tf.function\n",
        "def train(images):\n",
        "  noise=tf.random.normal([batch_size, noise_dimension])\n",
        "  with tf.GradientTape() as gen_type, tf.GradientTape() as disc_type:\n",
        "    generated_images = Generator(noise, training=True)\n",
        "    expected_output=Discriminator(images, training=False)\n",
        "    fack_output=Discriminator(generated_images, training=True)\n",
        "\n",
        "    gen_loss = generator_loss(fack_output)\n",
        "    disc_loss = discriminator_loss(expected_output, fack_output)\n",
        "\n",
        "  generator_gradients = gen_type.gradient(gen_loss, Generator.trainable_variables)\n",
        "  discriminator_gradients = disc_type.gradient(disc_loss, Discriminator.trainable_variables)\n",
        "\n",
        "  generator_optimizer.apply_gradients(zip(generator_gradients, Generator.trainable_variables))\n",
        "  discriminator_optimizer.apply_gradients(zip(discriminator_gradients, Discriminator.trainable_variables))"
      ]
    },
    {
      "cell_type": "code",
      "execution_count": 63,
      "metadata": {
        "colab": {
          "base_uri": "https://localhost:8080/"
        },
        "id": "ZRz8HR0xwHfr",
        "outputId": "264d5e01-ae0d-46c7-a375-ad80094d5393"
      },
      "outputs": [
        {
          "data": {
            "text/plain": [
              "TensorShape([16, 100])"
            ]
          },
          "execution_count": 63,
          "metadata": {},
          "output_type": "execute_result"
        }
      ],
      "source": [
        "test_images = tf.random.normal([no_of_images, noise_dimension])\n",
        "test_images.shape"
      ]
    },
    {
      "cell_type": "code",
      "execution_count": 64,
      "metadata": {
        "id": "Gjc1SRNXxLnG"
      },
      "outputs": [],
      "source": [
        "def train_gan(dataset, epochs, test_images):\n",
        "  for epoch in range(epochs):\n",
        "    for image_batch in dataset:\n",
        "      train(image_batch)\n",
        "\n",
        "  print('Epoch: ' , epoch + 1)\n",
        "  generated_image=Generator(test_images, training = False)\n",
        "  fig = plt.figure(figsize=(10,10))\n",
        "  for i in range(generated_image.shape[0]):\n",
        "    plt.subplot(4,4,i+1)\n",
        "    plt.imshow(generated_image[i,:,:,0]*127.5+127.5, cmap='gray')\n",
        "    plt.axis('off')\n",
        "  plt.show()"
      ]
    },
    {
      "cell_type": "code",
      "execution_count": 73,
      "metadata": {
        "colab": {
          "base_uri": "https://localhost:8080/",
          "height": 824
        },
        "id": "prdZgXlb0TTp",
        "outputId": "73f1d659-75ee-4bc3-f03b-0843566c3801"
      },
      "outputs": [
        {
          "name": "stdout",
          "output_type": "stream",
          "text": [
            "Epoch:  10000\n"
          ]
        },
        {
          "data": {
            "image/png": "[encoded data removed]",
            "text/plain": [
              "<Figure size 1000x1000 with 16 Axes>"
            ]
          },
          "metadata": {},
          "output_type": "display_data"
        }
      ],
      "source": [
        "train_gan(x_train, epochs, test_images)"
      ]
    },
    {
      "cell_type": "code",
      "execution_count": null,
      "metadata": {
        "id": "vakiDaU60cK1"
      },
      "outputs": [],
      "source": []
    }
  ],
  "metadata": {
    "accelerator": "GPU",
    "colab": {
      "gpuType": "T4",
      "provenance": []
    },
    "kernelspec": {
      "display_name": "Python 3",
      "name": "python3"
    },
    "language_info": {
      "codemirror_mode": {
        "name": "ipython",
        "version": 3
      },
      "file_extension": ".py",
      "mimetype": "text/x-python",
      "name": "python",
      "nbconvert_exporter": "python",
      "pygments_lexer": "ipython3",
      "version": "3.9.17"
    }
  },
  "nbformat": 4,
  "nbformat_minor": 0
}
